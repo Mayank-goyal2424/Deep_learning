{
  "nbformat": 4,
  "nbformat_minor": 0,
  "metadata": {
    "colab": {
      "name": "Preparing_image_data.ipynb",
      "provenance": [],
      "authorship_tag": "ABX9TyPh5X4jrysZfjD34S1M+iQz",
      "include_colab_link": true
    },
    "kernelspec": {
      "name": "python3",
      "display_name": "Python 3"
    }
  },
  "cells": [
    {
      "cell_type": "markdown",
      "metadata": {
        "id": "view-in-github",
        "colab_type": "text"
      },
      "source": [
        "<a href=\"https://colab.research.google.com/github/Mayank-goyal2424/Deep_learning/blob/master/Preparing_image_data.ipynb\" target=\"_parent\"><img src=\"https://colab.research.google.com/assets/colab-badge.svg\" alt=\"Open In Colab\"/></a>"
      ]
    },
    {
      "cell_type": "code",
      "metadata": {
        "id": "SOG6iM5XGUHI",
        "colab_type": "code",
        "colab": {}
      },
      "source": [
        "from numpy import asarray\n",
        "from PIL import Image"
      ],
      "execution_count": 0,
      "outputs": []
    },
    {
      "cell_type": "code",
      "metadata": {
        "id": "mL4o2KfiHdYy",
        "colab_type": "code",
        "colab": {}
      },
      "source": [
        "image=Image.open('bondi_beach.jfif')"
      ],
      "execution_count": 0,
      "outputs": []
    },
    {
      "cell_type": "code",
      "metadata": {
        "id": "9uKHB7hHH_MY",
        "colab_type": "code",
        "colab": {}
      },
      "source": [
        "pixels=asarray(image)"
      ],
      "execution_count": 0,
      "outputs": []
    },
    {
      "cell_type": "code",
      "metadata": {
        "id": "10eMVBcQIEuA",
        "colab_type": "code",
        "colab": {
          "base_uri": "https://localhost:8080/",
          "height": 50
        },
        "outputId": "c7673e23-0670-4273-ceca-b3bd615ba3da"
      },
      "source": [
        "print('Data type : %s'%pixels.dtype)\n",
        "print('Min: %.3f, Max: %.3f'%(pixels.min(),pixels.max()))"
      ],
      "execution_count": 5,
      "outputs": [
        {
          "output_type": "stream",
          "text": [
            "Data type : uint8\n",
            "Min: 0.000, Max: 255.000\n"
          ],
          "name": "stdout"
        }
      ]
    },
    {
      "cell_type": "code",
      "metadata": {
        "id": "KxcaR19FIzMd",
        "colab_type": "code",
        "colab": {}
      },
      "source": [
        "#convert images from integers to float\n",
        "pixels=pixels.astype('float32')"
      ],
      "execution_count": 0,
      "outputs": []
    },
    {
      "cell_type": "code",
      "metadata": {
        "id": "WCCia-C-I761",
        "colab_type": "code",
        "colab": {}
      },
      "source": [
        "#normalize\n",
        "pixels/=255.0"
      ],
      "execution_count": 0,
      "outputs": []
    },
    {
      "cell_type": "code",
      "metadata": {
        "id": "srlIssgfJKM_",
        "colab_type": "code",
        "colab": {
          "base_uri": "https://localhost:8080/",
          "height": 50
        },
        "outputId": "68dec182-925a-4f14-82a8-6ce60737368c"
      },
      "source": [
        "print('Data type : %s'%pixels.dtype)\n",
        "print('Min: %.3f, Max: %.3f'%(pixels.min(),pixels.max()))"
      ],
      "execution_count": 10,
      "outputs": [
        {
          "output_type": "stream",
          "text": [
            "Data type : float32\n",
            "Min: 0.000, Max: 1.000\n"
          ],
          "name": "stdout"
        }
      ]
    },
    {
      "cell_type": "code",
      "metadata": {
        "id": "6kjx3FCqJOPd",
        "colab_type": "code",
        "colab": {}
      },
      "source": [
        ""
      ],
      "execution_count": 0,
      "outputs": []
    }
  ]
}